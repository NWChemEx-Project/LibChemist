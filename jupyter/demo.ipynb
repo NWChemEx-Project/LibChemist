{
 "cells": [
  {
   "cell_type": "code",
   "execution_count": 1,
   "metadata": {},
   "outputs": [],
   "source": [
    "%load_ext autoreload\n",
    "%autoreload 2\n",
    "import sys\n",
    "sys.path.append(\"/home/keceli/soft/nwx/pybind_module_dir\")\n",
    "sys.path.append(\"/home/keceli/soft/nwx/Chemist/build/tmp2_230911132440\")\n",
    "sys.path.append(\"/home/keceli/soft/nwx/Chemist/build/tmp2_230911132440/_deps/parallelzone-build\")"
   ]
  },
  {
   "cell_type": "code",
   "execution_count": 2,
   "metadata": {},
   "outputs": [],
   "source": [
    "import chemist\n",
    "from chemist.basis_set import AOBasisSetF, AOBasisSetD\n",
    "from chemist.basis_set import AtomicBasisSetF, AtomicBasisSetD\n",
    "from chemist.basis_set import ShellF, ShellD\n",
    "from chemist.basis_set import ContractedGaussianF, ContractedGaussianD\n",
    "from chemist.basis_set import PrimitiveF, PrimitiveD\n",
    "from chemist import PointF, PointD\n",
    "from chemist import ShellType\n"
   ]
  },
  {
   "cell_type": "code",
   "execution_count": 3,
   "metadata": {},
   "outputs": [],
   "source": [
    "nucleus = chemist.Nucleus()\n",
    "atom = chemist.Atom() \n",
    "molecule = chemist.Molecule()\n",
    "system = chemist.ChemicalSystem()"
   ]
  },
  {
   "cell_type": "code",
   "execution_count": 4,
   "metadata": {},
   "outputs": [
    {
     "name": "stdout",
     "output_type": "stream",
     "text": [
      "<chemist.Nucleus object at 0x7f89a0513f30>\n"
     ]
    }
   ],
   "source": [
    "\n",
    "n_0 = chemist.Nucleus()\n",
    "n_H = chemist.Nucleus('H', 1, 1.00784)\n",
    "n_D = chemist.Nucleus('D', 1, 2.01410178)\n",
    "n_C = chemist.Nucleus('C', 6, 12.0107, 0.0, 0.0, 1.0)\n",
    "n_O = chemist.Nucleus('O', 8, 15.9994, 0.0, 0.0, 2.0)\n",
    "\n",
    "assert n_0.name == ''\n",
    "assert n_0.Z == 0\n",
    "assert n_0.mass == 0.0\n",
    "assert n_0.x == 0.0\n",
    "assert n_0.y == 0.0\n",
    "assert n_0.z == 0.0\n",
    "assert n_H.name == 'H'\n",
    "assert n_H.Z == 1\n",
    "assert n_H.mass == 1.00784\n",
    "assert n_H.x == 0.0\n",
    "assert n_H.y == 0.0\n",
    "assert n_H.z == 0.0\n",
    "assert n_H.coord(0) == n_H.x\n",
    "assert n_H.coord(1) == n_H.y\n",
    "assert n_H.coord(2) == n_H.z\n",
    "assert n_H.name == 'H'\n",
    "assert n_H.mass == 1.00784\n",
    "print(n_H)\n",
    "n_H.x = 2.0\n",
    "assert n_H.x == 2.0\n",
    "n_H.name = \"new_H\""
   ]
  },
  {
   "cell_type": "code",
   "execution_count": 5,
   "metadata": {},
   "outputs": [
    {
     "ename": "TypeError",
     "evalue": "cannot pickle 'chemist.Nucleus' object",
     "output_type": "error",
     "traceback": [
      "\u001b[0;31m---------------------------------------------------------------------------\u001b[0m",
      "\u001b[0;31mTypeError\u001b[0m                                 Traceback (most recent call last)",
      "\u001b[1;32m/home/keceli/soft/nwx/Chemist/jupyter/demo.ipynb Cell 5\u001b[0m line \u001b[0;36m4\n\u001b[1;32m      <a href='vscode-notebook-cell://ssh-remote%2Bnwx/home/keceli/soft/nwx/Chemist/jupyter/demo.ipynb#W4sdnNjb2RlLXJlbW90ZQ%3D%3D?line=0'>1</a>\u001b[0m \u001b[39mimport\u001b[39;00m \u001b[39mpickle\u001b[39;00m\n\u001b[1;32m      <a href='vscode-notebook-cell://ssh-remote%2Bnwx/home/keceli/soft/nwx/Chemist/jupyter/demo.ipynb#W4sdnNjb2RlLXJlbW90ZQ%3D%3D?line=1'>2</a>\u001b[0m \u001b[39mimport\u001b[39;00m \u001b[39mjson\u001b[39;00m\n\u001b[0;32m----> <a href='vscode-notebook-cell://ssh-remote%2Bnwx/home/keceli/soft/nwx/Chemist/jupyter/demo.ipynb#W4sdnNjb2RlLXJlbW90ZQ%3D%3D?line=3'>4</a>\u001b[0m n_pickled \u001b[39m=\u001b[39m pickle\u001b[39m.\u001b[39;49mdumps(n_H)\n",
      "\u001b[0;31mTypeError\u001b[0m: cannot pickle 'chemist.Nucleus' object"
     ]
    }
   ],
   "source": [
    "import pickle\n",
    "import json\n",
    " \n",
    "n_pickled = pickle.dumps(n_H)"
   ]
  },
  {
   "cell_type": "code",
   "execution_count": 6,
   "metadata": {},
   "outputs": [
    {
     "name": "stdout",
     "output_type": "stream",
     "text": [
      "Help on Molecule in module chemist object:\n",
      "\n",
      "class Molecule(pybind11_builtins.pybind11_object)\n",
      " |  Method resolution order:\n",
      " |      Molecule\n",
      " |      pybind11_builtins.pybind11_object\n",
      " |      builtins.object\n",
      " |  \n",
      " |  Methods defined here:\n",
      " |  \n",
      " |  __eq__(...)\n",
      " |      __eq__(self: chemist.Molecule, arg0: chemist.Molecule) -> bool\n",
      " |  \n",
      " |  __init__(...)\n",
      " |      __init__(self: chemist.Molecule) -> None\n",
      " |  \n",
      " |  __ne__(...)\n",
      " |      __ne__(self: chemist.Molecule, arg0: chemist.Molecule) -> bool\n",
      " |  \n",
      " |  at(...)\n",
      " |      at(self: chemist.Molecule, arg0: int) -> chemist.NucleusView\n",
      " |  \n",
      " |  charge(...)\n",
      " |      charge(self: chemist.Molecule) -> int\n",
      " |  \n",
      " |  empty(...)\n",
      " |      empty(self: chemist.Molecule) -> bool\n",
      " |  \n",
      " |  multiplicity(...)\n",
      " |      multiplicity(self: chemist.Molecule) -> int\n",
      " |  \n",
      " |  push_back(...)\n",
      " |      push_back(self: chemist.Molecule, arg0: chemist.Atom) -> None\n",
      " |  \n",
      " |  set_charge(...)\n",
      " |      set_charge(self: chemist.Molecule, arg0: int) -> None\n",
      " |  \n",
      " |  size(...)\n",
      " |      size(self: chemist.Molecule) -> int\n",
      " |  \n",
      " |  ----------------------------------------------------------------------\n",
      " |  Data and other attributes defined here:\n",
      " |  \n",
      " |  __hash__ = None\n",
      " |  \n",
      " |  ----------------------------------------------------------------------\n",
      " |  Static methods inherited from pybind11_builtins.pybind11_object:\n",
      " |  \n",
      " |  __new__(*args, **kwargs) from pybind11_builtins.pybind11_type\n",
      " |      Create and return a new object.  See help(type) for accurate signature.\n",
      "\n"
     ]
    }
   ],
   "source": [
    "help(chemist.Molecule())"
   ]
  },
  {
   "cell_type": "code",
   "execution_count": 7,
   "metadata": {},
   "outputs": [
    {
     "name": "stdout",
     "output_type": "stream",
     "text": [
      "Help on class Atom in module chemist:\n",
      "\n",
      "class Atom(pybind11_builtins.pybind11_object)\n",
      " |  Method resolution order:\n",
      " |      Atom\n",
      " |      pybind11_builtins.pybind11_object\n",
      " |      builtins.object\n",
      " |  \n",
      " |  Methods defined here:\n",
      " |  \n",
      " |  __eq__(...)\n",
      " |      __eq__(self: chemist.Atom, arg0: chemist.Atom) -> bool\n",
      " |  \n",
      " |  __init__(...)\n",
      " |      __init__(*args, **kwargs)\n",
      " |      Overloaded function.\n",
      " |      \n",
      " |      1. __init__(self: chemist.Atom) -> None\n",
      " |      \n",
      " |      2. __init__(self: chemist.Atom, arg0: str, arg1: int, arg2: float, arg3: float, arg4: float, arg5: float) -> None\n",
      " |      \n",
      " |      3. __init__(self: chemist.Atom, arg0: str, arg1: int, arg2: float, arg3: float, arg4: float, arg5: float, arg6: float) -> None\n",
      " |      \n",
      " |      4. __init__(self: chemist.Atom, arg0: str, arg1: int, arg2: float, arg3: float, arg4: float, arg5: float, arg6: float, arg7: int) -> None\n",
      " |  \n",
      " |  __ne__(...)\n",
      " |      __ne__(self: chemist.Atom, arg0: chemist.Atom) -> bool\n",
      " |  \n",
      " |  charge(...)\n",
      " |      charge(self: chemist.Atom) -> float\n",
      " |  \n",
      " |  coord(...)\n",
      " |      coord(self: chemist.Atom, arg0: int) -> float\n",
      " |  \n",
      " |  ----------------------------------------------------------------------\n",
      " |  Data descriptors defined here:\n",
      " |  \n",
      " |  Z\n",
      " |  \n",
      " |  mass\n",
      " |  \n",
      " |  n_electrons\n",
      " |  \n",
      " |  name\n",
      " |  \n",
      " |  nuclear_charge\n",
      " |  \n",
      " |  nucleus\n",
      " |  \n",
      " |  x\n",
      " |  \n",
      " |  y\n",
      " |  \n",
      " |  z\n",
      " |  \n",
      " |  ----------------------------------------------------------------------\n",
      " |  Data and other attributes defined here:\n",
      " |  \n",
      " |  __hash__ = None\n",
      " |  \n",
      " |  ----------------------------------------------------------------------\n",
      " |  Static methods inherited from pybind11_builtins.pybind11_object:\n",
      " |  \n",
      " |  __new__(*args, **kwargs) from pybind11_builtins.pybind11_type\n",
      " |      Create and return a new object.  See help(type) for accurate signature.\n",
      "\n"
     ]
    }
   ],
   "source": [
    "help(chemist.Atom)"
   ]
  },
  {
   "cell_type": "code",
   "execution_count": 8,
   "metadata": {},
   "outputs": [
    {
     "name": "stdout",
     "output_type": "stream",
     "text": [
      "<bound method PyCapsule.charge of <chemist.Atom object at 0x7fe4303aadb0>> <bound method PyCapsule.charge of <chemist.Atom object at 0x7fe4303aa0b0>> <bound method PyCapsule.charge of <chemist.Atom object at 0x7fe4303aa470>>\n"
     ]
    }
   ],
   "source": [
    "# Creating Atom objects using different constructors\n",
    "a0 = chemist.Atom()\n",
    "a1 = chemist.Atom(\"H\", 1, 1.0079, 0.0, 0.0, 0.0)\n",
    "a2 = chemist.Atom(\"H\", 1, 1.0079, 0.0, 0.0, 0.0, 1.0)\n",
    "\n",
    "print(a0.charge, a1.charge, a2.charge)\n"
   ]
  },
  {
   "cell_type": "code",
   "execution_count": 9,
   "metadata": {},
   "outputs": [],
   "source": [
    "# Accessing the properties of an Atom object\n",
    "a1_name = a1.name\n",
    "a1_Z = a1.Z\n",
    "a1_mass = a1.mass\n",
    "a1_x = a1.nucleus.x\n",
    "a1_y = a1.nucleus.y\n",
    "a1_z = a1.nucleus.z\n",
    "a1_charge = a1.nucleus.charge\n",
    "\n",
    "\n"
   ]
  },
  {
   "cell_type": "code",
   "execution_count": 10,
   "metadata": {},
   "outputs": [],
   "source": [
    "# Comparing Atom objects\n",
    "assert a0 != a1\n",
    "assert a1 == a2\n"
   ]
  },
  {
   "cell_type": "code",
   "execution_count": 5,
   "metadata": {},
   "outputs": [
    {
     "name": "stdout",
     "output_type": "stream",
     "text": [
      "1\n",
      "0\n"
     ]
    },
    {
     "ename": "TypeError",
     "evalue": "__init__(): incompatible constructor arguments. The following argument types are supported:\n    1. chemist.Molecule()\n    2. chemist.Molecule(arg0: std::initializer_list<chemist::Atom>)\n\nInvoked with: (<chemist.Atom object at 0x7f6c5072bc30>, <chemist.Atom object at 0x7f6c5072abf0>)\n\nDid you forget to `#include <pybind11/stl.h>`? Or <pybind11/complex.h>,\n<pybind11/functional.h>, <pybind11/chrono.h>, etc. Some automatic\nconversions are optional and require extra headers to be included\nwhen compiling your pybind11 module.",
     "output_type": "error",
     "traceback": [
      "\u001b[0;31m---------------------------------------------------------------------------\u001b[0m",
      "\u001b[0;31mTypeError\u001b[0m                                 Traceback (most recent call last)",
      "\u001b[1;32m/home/keceli/soft/nwx/Chemist/jupyter/demo.ipynb Cell 11\u001b[0m line \u001b[0;36m9\n\u001b[1;32m      <a href='vscode-notebook-cell://ssh-remote%2Bnwx/home/keceli/soft/nwx/Chemist/jupyter/demo.ipynb#X13sdnNjb2RlLXJlbW90ZQ%3D%3D?line=6'>7</a>\u001b[0m m0\u001b[39m.\u001b[39mset_charge(\u001b[39m1\u001b[39m)\n\u001b[1;32m      <a href='vscode-notebook-cell://ssh-remote%2Bnwx/home/keceli/soft/nwx/Chemist/jupyter/demo.ipynb#X13sdnNjb2RlLXJlbW90ZQ%3D%3D?line=7'>8</a>\u001b[0m m0\u001b[39m.\u001b[39mcharge()\n\u001b[0;32m----> <a href='vscode-notebook-cell://ssh-remote%2Bnwx/home/keceli/soft/nwx/Chemist/jupyter/demo.ipynb#X13sdnNjb2RlLXJlbW90ZQ%3D%3D?line=8'>9</a>\u001b[0m m0 \u001b[39m=\u001b[39m chemist\u001b[39m.\u001b[39;49mMolecule((a1,a2))\n",
      "\u001b[0;31mTypeError\u001b[0m: __init__(): incompatible constructor arguments. The following argument types are supported:\n    1. chemist.Molecule()\n    2. chemist.Molecule(arg0: std::initializer_list<chemist::Atom>)\n\nInvoked with: (<chemist.Atom object at 0x7f6c5072bc30>, <chemist.Atom object at 0x7f6c5072abf0>)\n\nDid you forget to `#include <pybind11/stl.h>`? Or <pybind11/complex.h>,\n<pybind11/functional.h>, <pybind11/chrono.h>, etc. Some automatic\nconversions are optional and require extra headers to be included\nwhen compiling your pybind11 module."
     ]
    }
   ],
   "source": [
    "a1 = chemist.Atom(\"H\", 1, 1.0079, 0.0, 0.0, 0.0)\n",
    "a2 = chemist.Atom(\"H\", 1, 1.0079, 0.0, 0.0, 0.0, 1.0)\n",
    "m0 = chemist.Molecule()\n",
    "print(m0.multiplicity())\n",
    "print(m0.charge())\n",
    "m0.push_back(a1)\n",
    "m0.set_charge(1)\n",
    "m0.charge()\n",
    "m0 = chemist.Molecule((a1,a2))\n"
   ]
  },
  {
   "cell_type": "code",
   "execution_count": 8,
   "metadata": {},
   "outputs": [
    {
     "data": {
      "text/plain": [
       "1"
      ]
     },
     "execution_count": 8,
     "metadata": {},
     "output_type": "execute_result"
    }
   ],
   "source": [
    "n1 = chemist.Nucleus(\"H\", 1, 1.0079, 0.0, 0.0, 0.0)\n",
    "n2 = chemist.Nucleus(\"H\", 1, 1.0079, 0.0, 0.0, 1.0)\n",
    "ns = chemist.Nuclei()\n",
    "ns.push_back(n1)\n",
    "ns.push_back(n2)\n",
    "m0 = chemist.Molecule(1, 0, ns)\n",
    "m0.n_electrons()"
   ]
  },
  {
   "cell_type": "code",
   "execution_count": 16,
   "metadata": {},
   "outputs": [
    {
     "ename": "TypeError",
     "evalue": "__init__(): incompatible constructor arguments. The following argument types are supported:\n    1. chemist.Molecule()\n    2. chemist.Molecule(arg0: std::initializer_list<chemist::Atom>)\n    3. chemist.Molecule(arg0: int, arg1: int, arg2: std::initializer_list<chemist::Atom>)\n    4. chemist.Molecule(arg0: int, arg1: int, arg2: chemist.Nuclei)\n\nInvoked with: 1, 0, (<chemist.Nucleus object at 0x7f89a45e38f0>, <chemist.Nucleus object at 0x7f89a0524d30>)\n\nDid you forget to `#include <pybind11/stl.h>`? Or <pybind11/complex.h>,\n<pybind11/functional.h>, <pybind11/chrono.h>, etc. Some automatic\nconversions are optional and require extra headers to be included\nwhen compiling your pybind11 module.",
     "output_type": "error",
     "traceback": [
      "\u001b[0;31m---------------------------------------------------------------------------\u001b[0m",
      "\u001b[0;31mTypeError\u001b[0m                                 Traceback (most recent call last)",
      "\u001b[1;32m/home/keceli/soft/nwx/Chemist/jupyter/demo.ipynb Cell 13\u001b[0m line \u001b[0;36m1\n\u001b[0;32m----> <a href='vscode-notebook-cell://ssh-remote%2Bnwx/home/keceli/soft/nwx/Chemist/jupyter/demo.ipynb#X21sdnNjb2RlLXJlbW90ZQ%3D%3D?line=0'>1</a>\u001b[0m m1 \u001b[39m=\u001b[39m chemist\u001b[39m.\u001b[39;49mMolecule(\u001b[39m1\u001b[39;49m, \u001b[39m0\u001b[39;49m, (n1,n2))\n",
      "\u001b[0;31mTypeError\u001b[0m: __init__(): incompatible constructor arguments. The following argument types are supported:\n    1. chemist.Molecule()\n    2. chemist.Molecule(arg0: std::initializer_list<chemist::Atom>)\n    3. chemist.Molecule(arg0: int, arg1: int, arg2: std::initializer_list<chemist::Atom>)\n    4. chemist.Molecule(arg0: int, arg1: int, arg2: chemist.Nuclei)\n\nInvoked with: 1, 0, (<chemist.Nucleus object at 0x7f89a45e38f0>, <chemist.Nucleus object at 0x7f89a0524d30>)\n\nDid you forget to `#include <pybind11/stl.h>`? Or <pybind11/complex.h>,\n<pybind11/functional.h>, <pybind11/chrono.h>, etc. Some automatic\nconversions are optional and require extra headers to be included\nwhen compiling your pybind11 module."
     ]
    }
   ],
   "source": [
    "m1 = chemist.Molecule(1, 0, (n1,n2))\n"
   ]
  },
  {
   "cell_type": "code",
   "execution_count": 15,
   "metadata": {},
   "outputs": [
    {
     "name": "stdout",
     "output_type": "stream",
     "text": [
      "8 8 7 1 0\n"
     ]
    }
   ],
   "source": [
    "ns.size()\n",
    "ns.push_back(n1)\n",
    "m0 = chemist.Molecule(1, 0, ns)\n",
    "print(ns.size(), m0.size(), m0.n_electrons(), m0.charge(), m0.multiplicity())"
   ]
  },
  {
   "cell_type": "code",
   "execution_count": 8,
   "metadata": {},
   "outputs": [
    {
     "data": {
      "text/plain": [
       "['__class__',\n",
       " '__delattr__',\n",
       " '__dir__',\n",
       " '__doc__',\n",
       " '__eq__',\n",
       " '__format__',\n",
       " '__ge__',\n",
       " '__getattribute__',\n",
       " '__gt__',\n",
       " '__hash__',\n",
       " '__init__',\n",
       " '__init_subclass__',\n",
       " '__le__',\n",
       " '__lt__',\n",
       " '__module__',\n",
       " '__ne__',\n",
       " '__new__',\n",
       " '__reduce__',\n",
       " '__reduce_ex__',\n",
       " '__repr__',\n",
       " '__setattr__',\n",
       " '__sizeof__',\n",
       " '__str__',\n",
       " '__subclasshook__',\n",
       " 'at',\n",
       " 'empty',\n",
       " 'push_back',\n",
       " 'size']"
      ]
     },
     "execution_count": 8,
     "metadata": {},
     "output_type": "execute_result"
    }
   ],
   "source": [
    "dir(m0)"
   ]
  },
  {
   "cell_type": "code",
   "execution_count": null,
   "metadata": {},
   "outputs": [],
   "source": []
  }
 ],
 "metadata": {
  "kernelspec": {
   "display_name": "nwx_kernel",
   "language": "python",
   "name": "nwx_kernel"
  },
  "language_info": {
   "codemirror_mode": {
    "name": "ipython",
    "version": 3
   },
   "file_extension": ".py",
   "mimetype": "text/x-python",
   "name": "python",
   "nbconvert_exporter": "python",
   "pygments_lexer": "ipython3",
   "version": "3.10.12"
  },
  "orig_nbformat": 4,
  "vscode": {
   "interpreter": {
    "hash": "a8428c84c085164c54ee9faa45a523c375d54279e9a2b351e55100926cc71741"
   }
  }
 },
 "nbformat": 4,
 "nbformat_minor": 2
}
